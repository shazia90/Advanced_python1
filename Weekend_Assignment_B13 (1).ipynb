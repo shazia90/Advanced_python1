{
 "cells": [
  {
   "cell_type": "code",
   "execution_count": 33,
   "metadata": {},
   "outputs": [
    {
     "name": "stdout",
     "output_type": "stream",
     "text": [
      "Lemon Tree Restaurant \n",
      "Kalidasa Road Karnataka\n",
      "\n",
      "Multi cuisine\n",
      " \n",
      "Lemon Tree is now OPEN\n",
      "\n",
      " Contact: \n",
      " 000786543\n"
     ]
    }
   ],
   "source": [
    "class Restaurant:\n",
    "    \n",
    "    def __init__(self,rname,ctype):\n",
    "        self.restaurant_name= rname\n",
    "        self.cuisine_type= ctype\n",
    "        \n",
    "    def describe_restaurant(self):\n",
    "        print(f'{self.restaurant_name} Restaurant \\nKalidasa Road Karnataka\\n')\n",
    "        print(f'{self.cuisine_type}\\n ')\n",
    "\n",
    "\n",
    "    def open_restaurant(self):\n",
    "        print(f'{self.restaurant_name} is now OPEN\\n\\n Contact: \\n 000786543')\n",
    "\n",
    "\n",
    "\n",
    "abj = Restaurant('Lemon Tree', 'Multi cuisine')\n",
    "\n",
    "abj.describe_restaurant()\n",
    "\n",
    "abj.open_restaurant()\n"
   ]
  },
  {
   "cell_type": "code",
   "execution_count": 58,
   "metadata": {},
   "outputs": [],
   "source": [
    "class icecream_stand(Restaurant):\n",
    "    pass"
   ]
  },
  {
   "cell_type": "code",
   "execution_count": 66,
   "metadata": {},
   "outputs": [],
   "source": [
    "abj = icecream_stand('Lemon Tree', 'Multicuisine')"
   ]
  },
  {
   "cell_type": "code",
   "execution_count": 67,
   "metadata": {},
   "outputs": [],
   "source": [
    "abj.ice_cream_flavors = ['Vanilla', 'chocolate','strawberry', 'pista']\n"
   ]
  },
  {
   "cell_type": "code",
   "execution_count": 68,
   "metadata": {},
   "outputs": [
    {
     "name": "stdout",
     "output_type": "stream",
     "text": [
      "{'restaurant_name': 'Lemon Tree', 'cuisine_type': 'Multicuisine', 'ice_cream_flavors': ['Vanilla', 'chocolate', 'strawberry', 'pista']}\n"
     ]
    }
   ],
   "source": [
    "print(abj.__dict__)"
   ]
  },
  {
   "cell_type": "code",
   "execution_count": null,
   "metadata": {},
   "outputs": [],
   "source": []
  }
 ],
 "metadata": {
  "kernelspec": {
   "display_name": "Python 3",
   "language": "python",
   "name": "python3"
  },
  "language_info": {
   "codemirror_mode": {
    "name": "ipython",
    "version": 3
   },
   "file_extension": ".py",
   "mimetype": "text/x-python",
   "name": "python",
   "nbconvert_exporter": "python",
   "pygments_lexer": "ipython3",
   "version": "3.7.4"
  }
 },
 "nbformat": 4,
 "nbformat_minor": 2
}
